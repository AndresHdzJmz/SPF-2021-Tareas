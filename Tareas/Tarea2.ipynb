{
 "cells": [
  {
   "cell_type": "markdown",
   "metadata": {},
   "source": [
    "<img style=\"float: left; margin: 30px 15px 15px 15px;\" src=\"https://pngimage.net/wp-content/uploads/2018/06/logo-iteso-png-5.png\" width=\"300\" height=\"500\" /> \n",
    "    \n",
    "    \n",
    "### <font color='navy'> Simulación de procesos financieros. \n",
    "\n",
    "**Nombres:** Oscar Flores y Juan Pablo Ruiz\n",
    "\n",
    "**Fecha:** 16 de febrero de 2021\n",
    "\n",
    "**Expediente** : 715029 y 721093    \n",
    "**Profesor:** Oscar David Jaramillo Zuluaga.\n",
    "\n",
    "**Link Github:** https://github.com/OscarFlores-IFi/SPF-2021-Tareas\n",
    "\n",
    "# Tarea 2: Clase 4"
   ]
  },
  {
   "attachments": {
    "imagen.png": {
     "image/png": "[encoded data removed]"
    }
   },
   "cell_type": "markdown",
   "metadata": {},
   "source": [
    "# Tarea 2:\n",
    "\n",
    "1. Imagine una rutina contable utilizada en una librería. Funciona en una lista con sublistas, que se ven así:\n",
    "![imagen.png](attachment:imagen.png)\n",
    "Escriba un programa en Python, que devuelve una lista con tuplas de tamaño 2. Cada tupla consiste en el número de pedido y el costo total del pedido. El producto debe aumentarse en 10€ si el valor de la orden es inferior a 100,00 €. \n",
    "Escribe un programa Python usando unicamente las funciones **lambda y map**.\n",
    "\n",
    "`orders = [ [\"34587\", \"Learning Python, Mark Lutz\", 4, 40.95], \n",
    "           [\"98762\", \"Programming Python, Mark Lutz\", 5, 56.80], \n",
    "           [\"77226\", \"Head First Python, Paul Barry\", 3,32.95],\n",
    "           [\"88112\", \"Einführung in Python3, Bernd Klein\", 3, 24.99]]`\n",
    "           \n",
    "2. La misma librería, pero esta vez trabajamos en una lista diferente. Las sublistas de nuestras listas se ven así: \n",
    "[número de orden, (número de artículo, cantidad, precio por unidad), ... (número de artículo, cantidad, precio por unidad)] \n",
    "\n",
    "`orders = [[1, (\"5464\", 4, 9.99), (\"8274\",18,12.99), (\"9744\", 9, 44.95)], \n",
    "\t       [2, (\"5464\", 9, 9.99), (\"9744\", 9, 44.95)],\n",
    "\t       [3, (\"5464\", 9, 9.99), (\"88112\", 11, 24.99)],\n",
    "           [4, (\"8732\", 7, 11.99), (\"7733\",11,18.99), (\"88112\", 5, 39.95)] ]`\n",
    "\n",
    "Escriba un programa que devuelva una lista de dos tuplas que tengan la información de (número de pedido, cantidad total de pedido). Utilice la función `Reduce`. Recuerde el precio del pedido del producto debe aumentarse en 10€ si el valor de la orden es inferior a 100,00 €.\n",
    "\n",
    "3. Resolver los anteriores ejercicios usando pandas (DataFrame)"
   ]
  },
  {
   "cell_type": "code",
   "execution_count": 1,
   "metadata": {},
   "outputs": [],
   "source": [
    "########### Solución 1\n",
    "orders = [ [\"34587\", \"Learning Python, Mark Lutz\", 4, 40.95], \n",
    "           [\"98762\", \"Programming Python, Mark Lutz\", 5, 56.80], \n",
    "           [\"77226\", \"Head First Python, Paul Barry\", 3,32.95],\n",
    "           [\"88112\", \"Einführung in Python3, Bernd Klein\", 3, 24.99]]\n",
    "\n",
    "# El resultado debe ser como muestro en el resultado de esta celda"
   ]
  },
  {
   "cell_type": "markdown",
   "metadata": {},
   "source": [
    "##### Solución Juan Pablo"
   ]
  },
  {
   "cell_type": "code",
   "execution_count": 2,
   "metadata": {},
   "outputs": [
    {
     "data": {
      "text/plain": [
       "[['34587', 163.8],\n",
       " ['98762', 284.0],\n",
       " ['77226', 108.85000000000001],\n",
       " ['88112', 84.97]]"
      ]
     },
     "execution_count": 2,
     "metadata": {},
     "output_type": "execute_result"
    }
   ],
   "source": [
    "result = list(map(lambda x:[x[0],float(x[1])+10] if float(x[1])<100 else [x[0],x[1]],map(lambda x: [x[0],(x[2]*x[3])] , orders)))\n",
    "result   "
   ]
  },
  {
   "cell_type": "markdown",
   "metadata": {},
   "source": [
    "##### Solución Oscar "
   ]
  },
  {
   "cell_type": "code",
   "execution_count": 3,
   "metadata": {},
   "outputs": [
    {
     "data": {
      "text/plain": [
       "[['34587', 163.8],\n",
       " ['98762', 284.0],\n",
       " ['77226', 108.85000000000001],\n",
       " ['88112', 84.97]]"
      ]
     },
     "execution_count": 3,
     "metadata": {},
     "output_type": "execute_result"
    }
   ],
   "source": [
    "mult = lambda x: [x[0], x[-2]*x[-1]] if (x[-2]*x[-1] > 100) else [x[0], x[-2]*x[-1] + 10]\n",
    "\n",
    "list(map(mult,orders))"
   ]
  },
  {
   "cell_type": "code",
   "execution_count": 4,
   "metadata": {},
   "outputs": [],
   "source": [
    "########### Solución 2\n",
    "orders = [[1, (\"5464\", 4, 9.99), (\"8274\",18,12.99), (\"9744\", 9, 44.95)], \n",
    "          [2, (\"5464\", 9, 9.99), (\"9744\", 9, 44.95)],\n",
    "          [3, (\"5464\", 9, 9.99), (\"88112\", 11, 24.99)],\n",
    "          [4, (\"8732\", 7, 11.99), (\"7733\",11,18.99), (\"88112\", 5, 39.95)] ]\n",
    "\n"
   ]
  },
  {
   "cell_type": "markdown",
   "metadata": {},
   "source": [
    "##### Solución Juan Pablo"
   ]
  },
  {
   "cell_type": "code",
   "execution_count": 5,
   "metadata": {},
   "outputs": [
    {
     "data": {
      "text/plain": [
       "[(1,\n",
       "  0    788.24\n",
       "  dtype: float64),\n",
       " (2,\n",
       "  0    504.46\n",
       "  dtype: float64),\n",
       " (3,\n",
       "  0    368.82\n",
       "  dtype: float64),\n",
       " (4,\n",
       "  0    428.64\n",
       "  dtype: float64)]"
      ]
     },
     "execution_count": 5,
     "metadata": {},
     "output_type": "execute_result"
    }
   ],
   "source": [
    "from functools import reduce\n",
    "import pandas as pd\n",
    "\n",
    "nums = list(map((lambda x: x[0]),orders))\n",
    "pedidos=list(map((lambda x: x[1:]),orders))\n",
    "pedidos2=reduce((lambda x,y: x+y),pedidos)\n",
    "r=pd.DataFrame(list(map((lambda x: x[1]*x[2]+10 if x[1]*x[2]>100 else x[1]*x[2]),pedidos2)))\n",
    "[(nums[0],r[0:4].sum()),(nums[1],r[4:6].sum()),(nums[2],r[6:8].sum()),(nums[3],r[8:12].sum())]"
   ]
  },
  {
   "cell_type": "markdown",
   "metadata": {},
   "source": [
    "##### Solución Oscar "
   ]
  },
  {
   "cell_type": "code",
   "execution_count": 6,
   "metadata": {},
   "outputs": [
    {
     "data": {
      "text/plain": [
       "[[1, 688.3299999999999],\n",
       " [2, 504.46000000000004],\n",
       " [3, 374.79999999999995],\n",
       " [4, 502.57]]"
      ]
     },
     "execution_count": 6,
     "metadata": {},
     "output_type": "execute_result"
    }
   ],
   "source": [
    "from functools import reduce\n",
    "\n",
    "mult = lambda x: x[-2]*x[-1] if (x[-2]*x[-1] > 100) else x[-2]*x[-1] + 10\n",
    "reduce_sum = lambda x,y: x + y #  x * y, para que de igual al ejercicio muestra del profesor.\n",
    "mult_n_sum = lambda x: [x[0], reduce(reduce_sum,[mult(i) for i in x[1:]])]\n",
    "\n",
    "list(map(mult_n_sum,orders))"
   ]
  },
  {
   "cell_type": "markdown",
   "metadata": {},
   "source": [
    "### Solución con Pandas"
   ]
  },
  {
   "cell_type": "markdown",
   "metadata": {},
   "source": [
    "##### Solución Juan Pablo"
   ]
  },
  {
   "cell_type": "code",
   "execution_count": 7,
   "metadata": {},
   "outputs": [
    {
     "data": {
      "text/html": [
       "<div>\n",
       "<style scoped>\n",
       "    .dataframe tbody tr th:only-of-type {\n",
       "        vertical-align: middle;\n",
       "    }\n",
       "\n",
       "    .dataframe tbody tr th {\n",
       "        vertical-align: top;\n",
       "    }\n",
       "\n",
       "    .dataframe thead th {\n",
       "        text-align: right;\n",
       "    }\n",
       "</style>\n",
       "<table border=\"1\" class=\"dataframe\">\n",
       "  <thead>\n",
       "    <tr style=\"text-align: right;\">\n",
       "      <th></th>\n",
       "      <th>0</th>\n",
       "      <th>Total</th>\n",
       "    </tr>\n",
       "  </thead>\n",
       "  <tbody>\n",
       "    <tr>\n",
       "      <th>0</th>\n",
       "      <td>1</td>\n",
       "      <td>688.33</td>\n",
       "    </tr>\n",
       "    <tr>\n",
       "      <th>1</th>\n",
       "      <td>2</td>\n",
       "      <td>504.46</td>\n",
       "    </tr>\n",
       "    <tr>\n",
       "      <th>2</th>\n",
       "      <td>3</td>\n",
       "      <td>374.80</td>\n",
       "    </tr>\n",
       "    <tr>\n",
       "      <th>3</th>\n",
       "      <td>4</td>\n",
       "      <td>302.82</td>\n",
       "    </tr>\n",
       "  </tbody>\n",
       "</table>\n",
       "</div>"
      ],
      "text/plain": [
       "   0   Total\n",
       "0  1  688.33\n",
       "1  2  504.46\n",
       "2  3  374.80\n",
       "3  4  302.82"
      ]
     },
     "execution_count": 7,
     "metadata": {},
     "output_type": "execute_result"
    }
   ],
   "source": [
    "import pandas as pd\n",
    "df2 = pd.DataFrame(orders)\n",
    "df2=df2.fillna(0)\n",
    "df2['subtotal1']=df2[1][0:].apply(lambda x:x[1]*x[2]+10 if  x[1]*x[2] <100 else x[1]*x[2])\n",
    "df2['subtotal2']=df2[2][0:].apply(lambda x:x[1]*x[2]+10 if  x[1]*x[2] <100 else x[1]*x[2])\n",
    "df2['subtotal3']=df2[3][0:1].apply(lambda x:x[1]*x[2]+10 if  x[1]*x[2] <100 else x[1]*x[2])\n",
    "\n",
    "df2=df2.fillna(0)\n",
    "df2['Total'] = df2['subtotal1']+ df2['subtotal2']+ df2['subtotal3']\n",
    "df2[[0,'Total']]"
   ]
  },
  {
   "cell_type": "markdown",
   "metadata": {},
   "source": [
    "##### Solución Oscar "
   ]
  },
  {
   "cell_type": "code",
   "execution_count": 8,
   "metadata": {},
   "outputs": [
    {
     "data": {
      "text/plain": [
       "[[1, 688.3299999999999],\n",
       " [2, 504.46000000000004],\n",
       " [3, 374.79999999999995],\n",
       " [4, 502.57]]"
      ]
     },
     "execution_count": 8,
     "metadata": {},
     "output_type": "execute_result"
    }
   ],
   "source": [
    "import pandas as pd\n",
    "DF_dict = {i+1 : pd.DataFrame(orders[i][1:]) for i  in range(len(orders))}\n",
    "def purchase_total(DF):\n",
    "    tmpDF = DF[1]*DF[2]\n",
    "    tmpDF[tmpDF<100] = tmpDF[tmpDF<100]+10\n",
    "    return tmpDF.sum()\n",
    "\n",
    "[[i, purchase_total(DF_dict.get(i))] for i in DF_dict]"
   ]
  },
  {
   "cell_type": "code",
   "execution_count": 9,
   "metadata": {},
   "outputs": [],
   "source": [
    "# Esta debe de ser su solución"
   ]
  },
  {
   "cell_type": "markdown",
   "metadata": {},
   "source": [
    "4. Use filter to eliminate all words that are shorter than 4 letters from a list of words\n",
    "`list='the notion of a lambda function goes all the way back to the origin of computer science'`"
   ]
  },
  {
   "cell_type": "markdown",
   "metadata": {},
   "source": [
    "##### Solución Juan Pablo"
   ]
  },
  {
   "cell_type": "code",
   "execution_count": 10,
   "metadata": {},
   "outputs": [
    {
     "data": {
      "text/plain": [
       "['notion',\n",
       " 'lambda',\n",
       " 'function',\n",
       " 'goes',\n",
       " 'back',\n",
       " 'origin',\n",
       " 'computer',\n",
       " 'science']"
      ]
     },
     "execution_count": 10,
     "metadata": {},
     "output_type": "execute_result"
    }
   ],
   "source": [
    "x = 'the notion of a lambda function goes all the way back to the origin of computer science'\n",
    "leng = lambda x: True if len(x) >= 4 else False\n",
    "list(filter(leng,x.split()))"
   ]
  },
  {
   "cell_type": "markdown",
   "metadata": {},
   "source": [
    "##### Solución Oscar "
   ]
  },
  {
   "cell_type": "code",
   "execution_count": 11,
   "metadata": {},
   "outputs": [
    {
     "data": {
      "text/plain": [
       "['notion',\n",
       " 'lambda',\n",
       " 'function',\n",
       " 'goes',\n",
       " 'back',\n",
       " 'origin',\n",
       " 'computer',\n",
       " 'science']"
      ]
     },
     "execution_count": 11,
     "metadata": {},
     "output_type": "execute_result"
    }
   ],
   "source": [
    "list_= 'the notion of a lambda function goes all the way back to the origin of computer science'.split(' ')\n",
    "func = lambda string: (len(string) >= 4)\n",
    "tmp = filter(func,list_)\n",
    "list(tmp)\n",
    "    "
   ]
  },
  {
   "cell_type": "code",
   "execution_count": 12,
   "metadata": {},
   "outputs": [],
   "source": [
    "# Respuesta"
   ]
  },
  {
   "cell_type": "markdown",
   "metadata": {},
   "source": [
    "5. Use filter to determine the percentage of Fahrenheit temperatures in a list are within the range 32 to 80"
   ]
  },
  {
   "cell_type": "code",
   "execution_count": 13,
   "metadata": {},
   "outputs": [
    {
     "name": "stdout",
     "output_type": "stream",
     "text": [
      "[ 35.97387961  99.13294268  92.6178302   99.69549478  63.21119535\n",
      "  73.90387697  95.50028838  99.21476553  36.98251238 101.45813729\n",
      " 100.5917418   89.38159435  89.52156589  83.8084752   28.37990868\n",
      "  68.75395211  45.86132067  36.58307493  56.32208365  33.96219302\n",
      "  45.29071318  74.86289938  66.51091383  88.19316186  94.26635864\n",
      "  46.83131624 109.60744472 109.68427993  44.55796499  92.84146259]\n"
     ]
    }
   ],
   "source": [
    "########### Solución 4\n",
    "import numpy as np\n",
    "np.random.seed(55555)\n",
    "temperatures = np.random.uniform(25,110,30)\n",
    "print(temperatures)"
   ]
  },
  {
   "cell_type": "markdown",
   "metadata": {},
   "source": [
    "##### Solución Juan Pablo"
   ]
  },
  {
   "cell_type": "code",
   "execution_count": 14,
   "metadata": {},
   "outputs": [
    {
     "data": {
      "text/plain": [
       "[35.97387961379455,\n",
       " 63.211195349983264,\n",
       " 73.90387696517755,\n",
       " 36.982512376595906,\n",
       " 68.75395211338406,\n",
       " 45.86132066984196,\n",
       " 36.58307493022292,\n",
       " 56.322083650154724,\n",
       " 33.9621930206693,\n",
       " 45.29071317816652,\n",
       " 74.86289938282341,\n",
       " 66.51091382521807,\n",
       " 46.831316244170544,\n",
       " 44.55796498523391]"
      ]
     },
     "execution_count": 14,
     "metadata": {},
     "output_type": "execute_result"
    }
   ],
   "source": [
    "rango = lambda x: True if x >= 32 and x<=80 else False\n",
    "list(filter(rango, temperatures))"
   ]
  },
  {
   "cell_type": "markdown",
   "metadata": {},
   "source": [
    "##### Solución Oscar "
   ]
  },
  {
   "cell_type": "code",
   "execution_count": 15,
   "metadata": {},
   "outputs": [
    {
     "data": {
      "text/plain": [
       "[35.97387961379455,\n",
       " 63.211195349983264,\n",
       " 73.90387696517755,\n",
       " 36.982512376595906,\n",
       " 68.75395211338406,\n",
       " 45.86132066984196,\n",
       " 36.58307493022292,\n",
       " 56.322083650154724,\n",
       " 33.9621930206693,\n",
       " 45.29071317816652,\n",
       " 74.86289938282341,\n",
       " 66.51091382521807,\n",
       " 46.831316244170544,\n",
       " 44.55796498523391]"
      ]
     },
     "execution_count": 15,
     "metadata": {},
     "output_type": "execute_result"
    }
   ],
   "source": [
    "func = lambda x: x > 32 and x < 80\n",
    "\n",
    "list(filter(func,temperatures))"
   ]
  },
  {
   "cell_type": "code",
   "execution_count": 16,
   "metadata": {},
   "outputs": [],
   "source": [
    "# Respuesta"
   ]
  },
  {
   "cell_type": "markdown",
   "metadata": {},
   "source": [
    "6. Use reduce to find the lower left corner (minimum x and minimum y value) for a list of point locations\n",
    "> **Hint**: Explore the command `np.minimum.reduce` [link](https://docs.scipy.org/doc/numpy/reference/generated/numpy.ufunc.reduce.html)"
   ]
  },
  {
   "cell_type": "code",
   "execution_count": 17,
   "metadata": {},
   "outputs": [
    {
     "name": "stdout",
     "output_type": "stream",
     "text": [
      "[[17 97]\n",
      " [22 33]\n",
      " [37 46]\n",
      " [57 28]\n",
      " [11 25]\n",
      " [14  2]\n",
      " [74 16]\n",
      " [12 37]\n",
      " [35 21]\n",
      " [66 65]\n",
      " [86 58]\n",
      " [67 81]\n",
      " [ 0 48]\n",
      " [28 66]\n",
      " [76 22]\n",
      " [46 47]\n",
      " [64  7]\n",
      " [88 94]\n",
      " [65 13]\n",
      " [75 89]\n",
      " [23 17]\n",
      " [36 63]\n",
      " [62 36]\n",
      " [64 17]\n",
      " [18 19]\n",
      " [88 41]\n",
      " [21 49]\n",
      " [98 36]\n",
      " [81 73]\n",
      " [62 90]]\n"
     ]
    }
   ],
   "source": [
    "########### Solución 5\n",
    "np.random.seed(55555)\n",
    "point_xy = np.random.randint(0,100,[30,2])\n",
    "print(point_xy)"
   ]
  },
  {
   "cell_type": "markdown",
   "metadata": {},
   "source": [
    "##### Solución Juan Pablo"
   ]
  },
  {
   "cell_type": "code",
   "execution_count": 18,
   "metadata": {},
   "outputs": [
    {
     "data": {
      "text/plain": [
       "array([0, 2])"
      ]
     },
     "execution_count": 18,
     "metadata": {},
     "output_type": "execute_result"
    }
   ],
   "source": [
    "np.minimum.reduce(point_xy)"
   ]
  },
  {
   "cell_type": "markdown",
   "metadata": {},
   "source": [
    "##### Solución Oscar "
   ]
  },
  {
   "cell_type": "code",
   "execution_count": 19,
   "metadata": {},
   "outputs": [
    {
     "data": {
      "text/plain": [
       "array([0, 2])"
      ]
     },
     "execution_count": 19,
     "metadata": {},
     "output_type": "execute_result"
    }
   ],
   "source": [
    "# from functools import reduce # En caso de que no se haya importado previamente\n",
    "# max_ = lambda x,y: [min(x[0], y[0]), min(x[1], y[1])]\n",
    "# reduce(max_, point_xy)\n",
    "\n",
    "np.array(point_xy).min(axis=0)"
   ]
  },
  {
   "cell_type": "code",
   "execution_count": 20,
   "metadata": {
    "scrolled": true
   },
   "outputs": [],
   "source": [
    "# Respuesta"
   ]
  },
  {
   "cell_type": "markdown",
   "metadata": {},
   "source": [
    "### Ejercicio: Vectorizar distribución de poisson\n",
    "$$\\textbf{Función de densidad de probabilidad}\\\\p(k)=\\frac{\\lambda^k e^{-\\lambda}}{k!},\\quad k\\in \\mathbb{N}$$"
   ]
  },
  {
   "cell_type": "code",
   "execution_count": 21,
   "metadata": {},
   "outputs": [],
   "source": [
    "import matplotlib.pyplot as plt\n",
    "import numpy as np\n",
    "import scipy.special as sps \n",
    "from itertools import cycle"
   ]
  },
  {
   "cell_type": "code",
   "execution_count": 22,
   "metadata": {},
   "outputs": [
    {
     "name": "stdout",
     "output_type": "stream",
     "text": [
      "0 1 0.0\n",
      "1 1 0.36787944117144233\n",
      "2 1 0.36787944117144233\n",
      "3 1 0.18393972058572117\n",
      "4 1 0.06131324019524039\n",
      "5 1 0.015328310048810098\n",
      "6 1 0.0030656620097620196\n",
      "7 1 0.0005109436682936699\n",
      "8 1 7.299195261338141e-05\n",
      "9 1 9.123994076672677e-06\n",
      "10 1 1.0137771196302974e-06\n",
      "11 1 1.0137771196302975e-07\n",
      "12 1 9.216155633002704e-09\n",
      "13 1 7.68012969416892e-10\n",
      "14 1 5.907792072437631e-11\n",
      "15 1 4.2198514803125934e-12\n",
      "16 1 2.8132343202083955e-13\n",
      "17 1 1.7582714501302472e-14\n",
      "18 1 1.0342773236060278e-15\n",
      "19 1 5.745985131144599e-17\n",
      "20 1 3.0242027006024205e-18\n",
      "21 1 1.5121013503012103e-19\n",
      "22 1 7.200482620481953e-21\n",
      "23 1 3.272946645673615e-22\n",
      "24 1 1.4230202807276587e-23\n",
      "25 1 5.929251169698579e-25\n",
      "26 1 2.3717004678794316e-26\n",
      "27 1 9.12192487645935e-28\n",
      "28 1 3.378490694984945e-29\n",
      "29 1 1.2066038196374805e-30\n",
      "30 1 4.1607028263361394e-32\n",
      "31 1 1.3869009421120461e-33\n",
      "32 1 4.473874006813052e-35\n",
      "33 1 1.3980856271290788e-36\n",
      "34 1 4.2366231125123604e-38\n",
      "35 1 1.2460656213271646e-39\n",
      "36 1 3.5601874895061847e-41\n",
      "37 1 9.889409693072739e-43\n",
      "38 1 2.672813430560199e-44\n",
      "39 1 7.033719554105787e-46\n",
      "40 1 1.8035178343860995e-47\n",
      "41 1 4.508794585965247e-49\n",
      "42 1 1.0997059965768894e-50\n",
      "43 1 2.618347610897356e-52\n",
      "44 1 6.08918049045897e-54\n",
      "45 1 1.383904656922493e-55\n",
      "46 1 3.0753436820499845e-57\n",
      "47 1 6.685529743586922e-59\n",
      "48 1 1.4224531369333879e-60\n",
      "49 1 2.9634440352778914e-62\n",
      "50 1 6.04784496995488e-64\n",
      "51 1 1.2095689939909758e-65\n",
      "52 1 2.3717039097862273e-67\n",
      "53 1 4.560969057281207e-69\n",
      "54 1 8.605601994870202e-71\n",
      "55 1 1.5936299990500373e-72\n",
      "56 1 2.8975090891818855e-74\n",
      "57 1 5.1741233735390814e-76\n",
      "58 1 9.077409427261549e-78\n",
      "59 1 1.5650705909071636e-79\n",
      "0 21 0.0\n",
      "1 21 1.5923376898615004e-08\n",
      "2 21 3.343909148709151e-07\n",
      "3 21 3.5111046061446086e-06\n",
      "4 21 2.457773224301226e-05\n",
      "5 21 0.00012903309427581436\n",
      "6 21 0.0005419389959584203\n",
      "7 21 0.0018967864858544712\n",
      "8 21 0.005690359457563413\n",
      "9 21 0.01493719357610396\n",
      "10 21 0.034853451677575906\n",
      "11 21 0.0731922485229094\n",
      "12 21 0.13973065627100884\n",
      "13 21 0.24452864847426548\n",
      "14 21 0.39500781676612123\n",
      "15 21 0.5925117251491818\n",
      "16 21 0.8295164152088544\n",
      "17 21 1.0887402949616216\n",
      "18 21 1.3449144820114147\n",
      "19 21 1.569066895679984\n",
      "20 21 1.7342318320673509\n",
      "21 21 1.8209434236707183\n",
      "22 21 1.820943423670718\n",
      "23 21 1.738173268049322\n",
      "24 21 1.5870277664798158\n",
      "25 21 1.3886492956698389\n",
      "26 21 1.1664654083626647\n",
      "27 21 0.9421451375236903\n",
      "28 21 0.732779551407315\n",
      "29 21 0.5495846635554862\n",
      "30 21 0.3979751011953522\n",
      "31 21 0.2785825708367464\n",
      "32 21 0.1887172254055379\n",
      "33 21 0.12384567917238425\n",
      "34 21 0.07881088674606271\n",
      "35 21 0.048677312401979894\n",
      "36 21 0.029206387441187944\n",
      "37 21 0.01703705934069297\n",
      "38 21 0.009669682328501414\n",
      "39 21 0.005343771813119202\n",
      "40 21 0.002877415591679571\n",
      "41 21 0.0015106431856317742\n",
      "42 21 0.0007737440706894452\n",
      "43 21 0.00038687203534472266\n",
      "44 21 0.00018893750563346928\n",
      "45 21 9.017471859779216e-05\n",
      "46 21 4.208153534563634e-05\n",
      "47 21 1.921113570126876e-05\n",
      "48 21 8.583698930354128e-06\n",
      "49 21 3.7553682820299308e-06\n",
      "50 21 1.609443549441399e-06\n",
      "51 21 6.759662907653875e-07\n",
      "52 21 2.7833906090339486e-07\n",
      "53 21 1.1240615921098639e-07\n",
      "54 21 4.453828949869272e-08\n",
      "55 21 1.732044591615828e-08\n",
      "56 21 6.613261167987706e-09\n",
      "57 21 2.4799729379953898e-09\n",
      "58 21 9.136742403140911e-10\n",
      "59 21 3.3081308701027436e-10\n",
      "0 41 0.0\n",
      "1 41 6.407816976273453e-17\n",
      "2 41 2.627204960272116e-15\n",
      "3 41 5.3857701685578383e-14\n",
      "4 41 7.360552563695712e-13\n",
      "5 41 7.544566377788105e-12\n",
      "6 41 6.186544429786246e-11\n",
      "7 41 4.227472027020601e-10\n",
      "8 41 2.476090758683495e-09\n",
      "9 41 1.2689965138252911e-08\n",
      "10 41 5.780984118537437e-08\n",
      "11 41 2.3702034886003496e-07\n",
      "12 41 8.834394821146757e-07\n",
      "13 41 3.0184182305584755e-06\n",
      "14 41 9.519626727145961e-06\n",
      "15 41 2.7878906843784604e-05\n",
      "16 41 7.620234537301124e-05\n",
      "17 41 0.00019526851001834132\n",
      "18 41 0.0004709417006324702\n",
      "19 41 0.0010727005403295155\n",
      "20 41 0.0023147748501847437\n",
      "21 41 0.004745288442878725\n",
      "22 41 0.00926461076942989\n",
      "23 41 0.017265865524846616\n",
      "24 41 0.03077828202255266\n",
      "25 41 0.05257956512186081\n",
      "26 41 0.08623048679985172\n",
      "27 41 0.13597884456899692\n",
      "28 41 0.20648639360477314\n",
      "29 41 0.30235507634984643\n",
      "30 41 0.42746752173598973\n",
      "31 41 0.5842056130391858\n",
      "32 41 0.7726590366002135\n",
      "33 41 0.9899693906440236\n",
      "34 41 1.22996197019409\n",
      "35 41 1.483189434645814\n",
      "36 41 1.7374504805850965\n",
      "37 41 1.978763047333027\n",
      "38 41 2.1926833767744354\n",
      "39 41 2.3657899591513645\n",
      "40 41 2.4871125211591267\n",
      "41 41 2.549290334188104\n",
      "42 41 2.5492903341881044\n",
      "43 41 2.4885929452788638\n",
      "44 41 2.372844436196126\n",
      "45 41 2.2110595882736632\n",
      "46 41 2.0145209582048933\n",
      "47 41 1.795551288834796\n",
      "48 41 1.5663319753665241\n",
      "49 41 1.3379085622922395\n",
      "50 41 1.1194745113057516\n",
      "51 41 0.9179690992707161\n",
      "52 41 0.7379751582372424\n",
      "53 41 0.5818650286101335\n",
      "54 41 0.4501220032644429\n",
      "55 41 0.3417592987748547\n",
      "56 41 0.2547660227230735\n",
      "57 41 0.1865251237793931\n",
      "58 41 0.13416719429745821\n",
      "59 41 0.09484232700337564\n"
     ]
    },
    {
     "data": {
      "image/png": "[encoded data removed]",
      "text/plain": [
       "<Figure size 720x720 with 2 Axes>"
      ]
     },
     "metadata": {
      "needs_background": "light"
     },
     "output_type": "display_data"
    }
   ],
   "source": [
    "## Forma de resolver el problema de manera típica (para olvidar)\n",
    "cycol = cycle('bgrcmk')\n",
    "\n",
    "p = lambda k,l: (l**k*np.exp(-l))/sps.gamma(k)\n",
    "\n",
    "# Como se haría de forma ineficiente\n",
    "l= 1\n",
    "\n",
    "# Gráficas en diferentes subplots\n",
    "fig, (ax1, ax2) = plt.subplots(2, 1, figsize=(10,10));\n",
    "\n",
    "ax1.title.set_text('Densidad de distrución de probabilidad')\n",
    "ax2.title.set_text('Distrución de probabilidad acumulada')\n",
    "\n",
    "for i in range(3):\n",
    "    P = []\n",
    "    c = next(cycol)\n",
    "    for k in range(60):\n",
    "        P.append(p(k,l))\n",
    "        print(k,l,p(k,l))\n",
    "    \n",
    "    ax1.plot(P,'o',c=c,label='$\\lambda$=%s' % l, markersize=2)        \n",
    "    ax1.legend()\n",
    "    \n",
    "    ax2.plot(np.cumsum(P),'o',c=c,label='$\\lambda$=%s' % l, markersize=3)\n",
    "    ax2.legend()\n",
    "    ax2.hlines(np.cumsum(P),range(len(P)),range(1,len(P)+1),color=c)\n",
    "    l +=20\n",
    "    \n",
    "plt.subplots_adjust(hspace=.4)\n",
    "plt.show()\n"
   ]
  },
  {
   "cell_type": "markdown",
   "metadata": {},
   "source": [
    "##### Solución Juan Pablo"
   ]
  },
  {
   "cell_type": "code",
   "execution_count": 36,
   "metadata": {},
   "outputs": [
    {
     "data": {
      "image/png": "[encoded data removed]",
      "text/plain": [
       "<Figure size 720x720 with 2 Axes>"
      ]
     },
     "metadata": {
      "needs_background": "light"
     },
     "output_type": "display_data"
    }
   ],
   "source": [
    "p = lambda k,l: (l**k*np.exp(-l))/sps.gamma(k) # función de densidad\n",
    "\n",
    "import pandas as pd\n",
    "\n",
    "p = lambda k,l: (l**k*np.exp(-l))/sps.gamma(k) \n",
    "\n",
    "k = 60\n",
    "N = 3\n",
    "\n",
    "# creo una función para encontrar los valores de lambda\n",
    "def fill_l(N):\n",
    "    l= np.zeros(N)\n",
    "    l[0]=1\n",
    "    def llenado_l(i):\n",
    "        nonlocal l\n",
    "        l[i]=l[i-1]+20\n",
    " \n",
    "    [llenado_l(i) for i in range(1,N)]\n",
    "    return l\n",
    "# itero en una lista para poder evaluar los valores de k y l y guardarlos en dicha lista\n",
    "d = [[p(i,j) for j in fill_l(N)] for i in range(60)]\n",
    "# convierto la lista en un DataFrame para graficar por columnas\n",
    "d = pd.DataFrame(d)\n",
    "\n",
    "#creación del gráfico\n",
    "\n",
    "fig, (ax1, ax2) = plt.subplots(2, 1, figsize=(10,10));\n",
    "\n",
    "ax1.title.set_text('Densidad de distrución de probabilidad')\n",
    "ax2.title.set_text('Distrución de probabilidad acumulada')\n",
    "\n",
    "    \n",
    "ax1.plot(d,'o', ms=2)\n",
    "\n",
    "\n",
    "    \n",
    "ax2.plot(d.cumsum(),'o',ms=3)\n",
    "\n",
    "\n",
    "plt.subplots_adjust(hspace=.4)\n",
    "\n",
    "plt.show()\n"
   ]
  },
  {
   "cell_type": "markdown",
   "metadata": {},
   "source": [
    "##### Solución Oscar "
   ]
  },
  {
   "cell_type": "code",
   "execution_count": 24,
   "metadata": {},
   "outputs": [],
   "source": [
    "import time\n",
    "\n",
    "# Gráficas en diferentes subplots\n",
    "def plotting(P):\n",
    "    fig, (ax1, ax2) = plt.subplots(2, 1, figsize=(10,10));\n",
    "\n",
    "    ax1.title.set_text('Densidad de distrución de probabilidad')\n",
    "    ax2.title.set_text('Distrución de probabilidad acumulada')\n",
    "    \n",
    "    cycol = cycle('bgr') # since cmk colors are not used, they can be deleted. \n",
    "    \n",
    "    for i in range(len(P)):\n",
    "        c = next(cycol)\n",
    "\n",
    "        ax1.plot(P[i],'o',c=c,label='$\\lambda$=%s' % l, markersize=2)        \n",
    "        ax1.legend()\n",
    "\n",
    "        ax2.plot(np.cumsum(P[i]),'o',c=c,label='$\\lambda$=%s' % l, markersize=3)\n",
    "        ax2.legend()\n",
    "        ax2.hlines(np.cumsum(P[i]),range(len(P[i])),range(1,len(P[i])+1),color=c)\n",
    "\n",
    "    plt.subplots_adjust(hspace=.4)\n",
    "    plt.show()"
   ]
  },
  {
   "cell_type": "code",
   "execution_count": 25,
   "metadata": {},
   "outputs": [],
   "source": [
    "# Inicializar variables\n",
    "N = 60\n",
    "\n",
    "## Forma de resolver el problema de manera no tan típica.\n",
    "p = lambda k,l: (l**k*np.exp(-l))/sps.gamma(k)\n",
    "\n",
    "l = [20*i + 1 for i in range(3)] # Como se haría de forma no tan ineficiente\n",
    "k = [i for i in range(N)]\n",
    "\n",
    "#l = np.arange(3)*20 +1 # Un poquito más eficiente, pero se generaban resultados raros usandolos. \n",
    "#k = np.arange(N)"
   ]
  },
  {
   "cell_type": "code",
   "execution_count": 26,
   "metadata": {},
   "outputs": [
    {
     "name": "stdout",
     "output_type": "stream",
     "text": [
      "0.003999948501586914\n"
     ]
    }
   ],
   "source": [
    "# Evaluar funcion p\n",
    "\n",
    "t0 = time.time()\n",
    "## Preallocating: \n",
    "P = np.zeros((N, len(l)))\n",
    "\n",
    "## Definiendo función y llamarla en compresión de listas. \n",
    "def modify_P(j,i):\n",
    "    global P\n",
    "    P[j,i] = p(k[j],l[i])\n",
    "    #print(k[j],l[i])\n",
    "    \n",
    "[modify_P(j,i) for i in np.arange(len(l)) for j in range(len(k))]\n",
    "P\n",
    "print(time.time() - t0)"
   ]
  },
  {
   "cell_type": "code",
   "execution_count": 27,
   "metadata": {},
   "outputs": [
    {
     "data": {
      "image/png": "[encoded data removed]",
      "text/plain": [
       "<Figure size 720x720 with 2 Axes>"
      ]
     },
     "metadata": {
      "needs_background": "light"
     },
     "output_type": "display_data"
    }
   ],
   "source": [
    "plotting(P.T)"
   ]
  },
  {
   "cell_type": "code",
   "execution_count": 28,
   "metadata": {},
   "outputs": [
    {
     "name": "stdout",
     "output_type": "stream",
     "text": [
      "0.004000186920166016\n"
     ]
    }
   ],
   "source": [
    "# Evaluar función P más 'eficiente'.\n",
    "\n",
    "t0 = time.time()\n",
    "## Preallocating: \n",
    "P = np.zeros((N, len(l)))\n",
    "\n",
    "## Usando un for típico\n",
    "for i in np.arange(len(l)):\n",
    "    for j in range(len(k)):\n",
    "        P[j,i] = p(k[j],l[i])\n",
    "P\n",
    "print(time.time() - t0)"
   ]
  },
  {
   "cell_type": "code",
   "execution_count": 29,
   "metadata": {},
   "outputs": [
    {
     "data": {
      "image/png": "[encoded data removed]",
      "text/plain": [
       "<Figure size 720x720 with 2 Axes>"
      ]
     },
     "metadata": {
      "needs_background": "light"
     },
     "output_type": "display_data"
    }
   ],
   "source": [
    "plotting(P.T)"
   ]
  },
  {
   "cell_type": "markdown",
   "metadata": {},
   "source": [
    "Moraleja: No siempre es mejor definir funciones ni usar compresión de listas."
   ]
  },
  {
   "cell_type": "markdown",
   "metadata": {},
   "source": [
    "<script>\n",
    "  $(document).ready(function(){\n",
    "    $('div.prompt').hide();\n",
    "    $('div.back-to-top').hide();\n",
    "    $('nav#menubar').hide();\n",
    "    $('.breadcrumb').hide();\n",
    "    $('.hidden-print').hide();\n",
    "  });\n",
    "</script>\n",
    "\n",
    "<footer id=\"attribution\" style=\"float:right; color:#808080; background:#fff;\">\n",
    "Created with Jupyter by Oscar David Jaramillo Zuluaga\n",
    "</footer>"
   ]
  }
 ],
 "metadata": {
  "kernelspec": {
   "display_name": "Python 3",
   "language": "python",
   "name": "python3"
  },
  "language_info": {
   "codemirror_mode": {
    "name": "ipython",
    "version": 3
   },
   "file_extension": ".py",
   "mimetype": "text/x-python",
   "name": "python",
   "nbconvert_exporter": "python",
   "pygments_lexer": "ipython3",
   "version": "3.8.5"
  }
 },
 "nbformat": 4,
 "nbformat_minor": 2
}
