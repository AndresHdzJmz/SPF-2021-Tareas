{
 "cells": [
  {
   "cell_type": "markdown",
   "metadata": {},
   "source": [
    "<img style=\"float: left; margin: 30px 15px 15px 15px;\" src=\"https://pngimage.net/wp-content/uploads/2018/06/logo-iteso-png-5.png\" width=\"300\" height=\"500\" /> \n",
    "    \n",
    "    \n",
    "### <font color='navy'> Simulación de procesos financieros. \n",
    "\n",
    "**Nombres:** Oscar Flores y Rodrigo Martinez\n",
    "\n",
    "**Fecha:** 16 de febrero de 2021\n",
    "\n",
    "**Expediente** : 715029 y \n",
    "**Profesor:** Oscar David Jaramillo Zuluaga.\n",
    "\n",
    "**Link Github:** https://github.com/OscarFlores-IFi/SPF-2021-Tareas\n",
    "\n",
    "# Tarea 4: Clase 7"
   ]
  },
  {
   "cell_type": "markdown",
   "metadata": {},
   "source": [
    "# Tarea\n",
    "\n",
    "# 1\n",
    "Como ejemplo simple de una simulación de Monte Carlo, considere calcular la probabilidad de una suma particular del lanzamiento de tres dados (cada dado tiene valores del uno al seis). Además cada dado tiene las siguientes carácterísticas: el primer dado no está cargado (distribución uniforme todos son equiprobables); el segundo y tercer dado están cargados basados en una distribución binomial con parámetros (`n=5, p=0.5` y `n=5, p=0.2`). Calcule la probabilidad de que la suma resultante sea 7, 14 o 18. "
   ]
  },
  {
   "cell_type": "markdown",
   "metadata": {},
   "source": [
    "#### Solucion Oscar "
   ]
  },
  {
   "cell_type": "code",
   "execution_count": 106,
   "metadata": {},
   "outputs": [
    {
     "data": {
      "text/plain": [
       "0.0853"
      ]
     },
     "execution_count": 106,
     "metadata": {},
     "output_type": "execute_result"
    }
   ],
   "source": [
    "import scipy.stats as st\n",
    "import numpy as np\n",
    "import matplotlib.pyplot as plt\n",
    "import pandas as pd\n",
    "from functools import reduce\n",
    "\n",
    "def no_cargados(size = 10000):\n",
    "    return np.random.randint(1, 7, size = size)\n",
    "\n",
    "def cargados(n=5, p=0.5, size = 10000):\n",
    "    return st.binom(n=n, p=p).rvs(size=size) + 1\n",
    "\n",
    "def varios_dados(func, dados = 3, **kwargs):\n",
    "    simulaciones = [dado_cargado( **kwargs ) for i in range(dados)]\n",
    "    return reduce(lambda a,b: a+b, simulaciones)"
   ]
  },
  {
   "cell_type": "code",
   "execution_count": 129,
   "metadata": {},
   "outputs": [
    {
     "data": {
      "text/plain": [
       "10    0.19590\n",
       "11    0.19585\n",
       "12    0.15164\n",
       "9     0.15160\n",
       "8     0.09320\n",
       "13    0.09201\n",
       "7     0.04247\n",
       "14    0.04183\n",
       "15    0.01456\n",
       "6     0.01389\n",
       "16    0.00320\n",
       "5     0.00296\n",
       "17    0.00041\n",
       "4     0.00038\n",
       "18    0.00005\n",
       "3     0.00005\n",
       "dtype: float64"
      ]
     },
     "execution_count": 129,
     "metadata": {},
     "output_type": "execute_result"
    }
   ],
   "source": [
    "# no cargado: \n",
    "size = 100000\n",
    "\n",
    "pd.value_counts(varios_dados(no_cargados, size = 100000))/size # distribución de cada suma de dados\n",
    "\n",
    "# suma acumulada: 0.08435"
   ]
  },
  {
   "cell_type": "code",
   "execution_count": 131,
   "metadata": {},
   "outputs": [
    {
     "data": {
      "text/plain": [
       "10    0.19710\n",
       "11    0.19621\n",
       "12    0.15426\n",
       "9     0.15076\n",
       "13    0.09192\n",
       "8     0.09093\n",
       "7     0.04220\n",
       "14    0.04162\n",
       "15    0.01384\n",
       "6     0.01370\n",
       "5     0.00337\n",
       "16    0.00317\n",
       "17    0.00042\n",
       "4     0.00041\n",
       "18    0.00007\n",
       "3     0.00002\n",
       "dtype: float64"
      ]
     },
     "execution_count": 131,
     "metadata": {},
     "output_type": "execute_result"
    }
   ],
   "source": [
    "# cargado n=5, p=0.5: \n",
    "size = 100000\n",
    "\n",
    "pd.value_counts(varios_dados(cargados,  n=5, p=0.5, size = 100000))/size # distribución de cada suma de dados\n",
    "\n",
    "# suma acumulada: 0.08389"
   ]
  },
  {
   "cell_type": "code",
   "execution_count": 135,
   "metadata": {},
   "outputs": [
    {
     "data": {
      "text/plain": [
       "6     0.25018\n",
       "5     0.22880\n",
       "7     0.18981\n",
       "4     0.13190\n",
       "8     0.10214\n",
       "9     0.04286\n",
       "3     0.03608\n",
       "10    0.01372\n",
       "11    0.00383\n",
       "12    0.00059\n",
       "13    0.00008\n",
       "14    0.00001\n",
       "dtype: float64"
      ]
     },
     "execution_count": 135,
     "metadata": {},
     "output_type": "execute_result"
    }
   ],
   "source": [
    "# cargado n=5, p=0.2: \n",
    "size = 100000\n",
    "\n",
    "pd.value_counts(varios_dados(cargados,  n=5, p=0.2, size = 100000))/size # distribución de cada suma de dados\n",
    "\n",
    "# suma acumulada: 0.18792"
   ]
  },
  {
   "cell_type": "markdown",
   "metadata": {},
   "source": [
    "#### Solucion (otro estudiante)"
   ]
  },
  {
   "cell_type": "code",
   "execution_count": null,
   "metadata": {},
   "outputs": [],
   "source": []
  },
  {
   "cell_type": "code",
   "execution_count": 53,
   "metadata": {},
   "outputs": [
    {
     "data": {
      "text/plain": [
       "(0.127, 0.01352, 1e-05)"
      ]
     },
     "execution_count": 53,
     "metadata": {},
     "output_type": "execute_result"
    }
   ],
   "source": [
    "# Solución\n"
   ]
  },
  {
   "cell_type": "markdown",
   "metadata": {},
   "source": [
    "# 2 Ejercicio de aplicación- Cafetería Central\n",
    "\n",
    "Premisas para la simulación:\n",
    "- Negocio de alimentos que vende bebidas y alimentos.\n",
    "- Negocio dentro del ITESO.\n",
    "- Negocio en cafetería central.\n",
    "- Tipo de clientes (hombres y mujeres).\n",
    "- Rentabilidad del 60%.\n",
    "\n",
    "## Objetivo\n",
    "Realizar una simulación estimado el tiempo medio que se tardaran los clientes en ser atendidos entre el horario de 6:30 a 1 pm. Además saber el consumo. \n",
    "**Analizar supuestos y limitantes**"
   ]
  },
  {
   "cell_type": "markdown",
   "metadata": {},
   "source": [
    "## Supuestos en simulación\n",
    "Clasificación de clientes: \n",
    "- Mujer  = 1 $\\longrightarrow$ aleatorio < 0.5\n",
    "- Hombre = 0 $\\longrightarrow$ aleatorio $\\geq$ 0.5.\n",
    "\n",
    "Condiciones iniciales:\n",
    "- Todas las distrubuciones de probabilidad se supondrán uniformes.\n",
    "- Tiempo de simulación: 6:30 am - 1:30pm $\\longrightarrow$ T = 7 horas = 25200 seg.\n",
    "- Tiempo de llegada hasta ser atendido: Min=5seg, Max=30seg.\n",
    "- Tiempo que tardan los clientes en ser atendidos:\n",
    "    - Mujer: Min = 1 min= 60seg, Max = 5 min = 300 seg\n",
    "    - Hombre: Min = 40 seg, Max = 2 min= 120 seg\n",
    "- Consumo según el tipo de cliente:\n",
    "    - Mujer: Min = 30 pesos, Max = 100 pesos\n",
    "    - Hombre: Min = 20 pesos, Max = 80 pesos\n",
    "\n",
    "Responder las siguientes preguntas basados en los datos del problema:\n",
    "1. ¿Cuáles fueron los gastos de los hombres y las mujeres en 5 días de trabajo?.\n",
    "2. ¿Cuál fue el consumo promedio de los hombres y mujeres?\n",
    "3. ¿Cuál fue el número de personas atendidas por día?\n",
    "4. ¿Cuál fue el tiempo de atención promedio?\n",
    "5. ¿Cuánto fue la ganancia promedio de la cafetería en 5 días de trabajo y su respectiva rentabilidad?"
   ]
  },
  {
   "cell_type": "code",
   "execution_count": 137,
   "metadata": {},
   "outputs": [],
   "source": [
    "################## Datos del problema\n",
    "d = 5\n",
    "T =25200\n",
    "T_at_min = 5; T_at_max = 30\n",
    "T_mujer_min =60; T_mujer_max = 300\n",
    "T_hombre_min = 40; T_hombre_max = 120\n",
    "C_mujer_min = 30; C_mujer_max = 100\n",
    "C_hombre_min = 20; C_hombre_max = 80\n"
   ]
  },
  {
   "cell_type": "markdown",
   "metadata": {},
   "source": [
    "#### Solucion Oscar "
   ]
  },
  {
   "cell_type": "markdown",
   "metadata": {},
   "source": [
    "Como primer supuesto es que, debido a que todas las variables son independientes, podemos simular distintos parametros por separado y no cambia el resultado final que si se simulan todos los escenarios simultaneamente. No obstante, el primero de los métodos es un poco más eficiente debido a que permite la vectorización en algunos de los parámetros.\n",
    "\n",
    "Otro de los supuestos permite que se atienda cierta cantidad de personas simultáneamente, sin embargo, no se considera el calculo de el máximo de personas atendidas simúltaneamente en el ejercicio, ni el tiempo máximo en el que se dejarían de recibir pedidos (si se llega a la 1:29:55 se le atendería aunque el tiempo de atenderlo sea de 5 min.)"
   ]
  },
  {
   "cell_type": "code",
   "execution_count": 197,
   "metadata": {},
   "outputs": [],
   "source": [
    "import numpy as np\n",
    "\n",
    "def atendidos_un_dia(t = 25200):\n",
    "    cant_clientes = 0\n",
    "    tiempos = []\n",
    "    while t > 0: \n",
    "        t_at = np.random.randint(T_at_min, T_at_max)\n",
    "        t -= t_at\n",
    "\n",
    "        tiempos.append(t_at)\n",
    "    return tiempos\n",
    "\n",
    "def genero(x):\n",
    "    return 1 if np.random.rand() < 0.5 else 0 # Asumamos para este caso que hombre es 1 y mujer es 0 \n",
    "\n",
    "def consumo(x):\n",
    "    return np.random.randint(C_mujer_min, C_mujer_max) if x == 1 else np.random.randint(C_hombre_min, C_hombre_max)\n",
    "\n",
    "def tiempo_atencion(x):\n",
    "    return np.random.randint(T_mujer_min, T_mujer_max) if x == 1 else np.random.randint(T_hombre_min, T_hombre_max)\n",
    "\n",
    "\n",
    "# Personas atendidas en un día particular: \n",
    "# atendidos_hoy = atendidos_un_dia()\n",
    "\n",
    "# Genero de las personas atendidas en ese día: \n",
    "# genero_atendidos = list(map(genero, np.zeros(len(atendidos_hoy))))\n",
    "\n",
    "# Consumo por persona en ese día: \n",
    "# consumo_atendidos = list(map(consumo, genero_atendidos))\n",
    "\n",
    "# Tiempo en ser atendidos en ese día:\n",
    "# tiempo_atendidos = list(map(tiempo_atencion, genero_atendidos))\n",
    "\n",
    "\n",
    "\n",
    "# ¿Cuáles fueron los gastos de los hombres y las mujeres en 5 días de trabajo?.\n",
    "# ¿Cuál fue el consumo promedio de los hombres y mujeres?\n",
    "# ¿Cuál fue el número de personas atendidas por día?\n",
    "# ¿Cuál fue el tiempo de atención promedio?\n",
    "# ¿Cuánto fue la ganancia promedio de la cafetería en 5 días de trabajo y su respectiva rentabilidad?\n",
    "\n",
    "\n",
    "\n",
    "atendidos_dia = []\n",
    "\n",
    "gastos = []\n",
    "consumo_promedio_mujeres = []\n",
    "consumo_promedio_hombres = []\n",
    "personas_por_dia_hombres = []\n",
    "atencion_promedio = []\n",
    "ganancia_promedio = []\n",
    "for i in range(5):\n",
    "    atendidos_dia.append(atendidos_un_dia())\n",
    "    genero_atendidos = np.array(list(map(genero, np.zeros(len(atendidos_dia[-1])))))\n",
    "    \n",
    "    gastos.append(np.sum(list(map(consumo, genero_atendidos)))) \n",
    "    consumo_promedio_mujeres.append(np.mean(list(map(consumo, genero_atendidos[genero_atendidos ==1]))))\n",
    "    consumo_promedio_hombres.append(np.mean(list(map(consumo, genero_atendidos[genero_atendidos ==0]))))\n",
    "    atencion_promedio.append(np.array(list(map(tiempo_atencion, genero_atendidos))))\n",
    "    ganancia_promedio.append(gastos[-1]*0.6)\n",
    "\n",
    "    "
   ]
  },
  {
   "cell_type": "code",
   "execution_count": 186,
   "metadata": {},
   "outputs": [
    {
     "data": {
      "text/plain": [
       "[84790, 85511, 83310, 82150, 84143]"
      ]
     },
     "execution_count": 186,
     "metadata": {},
     "output_type": "execute_result"
    }
   ],
   "source": [
    "# Gastos díarios de hombres y mujeres: \n",
    "gastos"
   ]
  },
  {
   "cell_type": "code",
   "execution_count": 190,
   "metadata": {},
   "outputs": [
    {
     "data": {
      "text/plain": [
       "[49.99596231493943,\n",
       " 48.71333333333333,\n",
       " 48.99869281045751,\n",
       " 49.21372031662269,\n",
       " 49.09827357237716]"
      ]
     },
     "execution_count": 190,
     "metadata": {},
     "output_type": "execute_result"
    }
   ],
   "source": [
    "# Consumo promedio de hombres :\n",
    "consumo_promedio_hombres"
   ]
  },
  {
   "cell_type": "code",
   "execution_count": 191,
   "metadata": {},
   "outputs": [
    {
     "data": {
      "text/plain": [
       "[64.6891891891892,\n",
       " 63.568942436412314,\n",
       " 64.59856115107914,\n",
       " 64.49717514124293,\n",
       " 64.47773279352226]"
      ]
     },
     "execution_count": 191,
     "metadata": {},
     "output_type": "execute_result"
    }
   ],
   "source": [
    "# Consumo promedio de mujeres: \n",
    "consumo_promedio_mujeres"
   ]
  },
  {
   "cell_type": "code",
   "execution_count": 188,
   "metadata": {},
   "outputs": [
    {
     "data": {
      "text/plain": [
       "[1483, 1497, 1460, 1466, 1494]"
      ]
     },
     "execution_count": 188,
     "metadata": {},
     "output_type": "execute_result"
    }
   ],
   "source": [
    "# Atendidos por día: \n",
    "list(map(lambda x: len(x), atendidos_dia))"
   ]
  },
  {
   "cell_type": "code",
   "execution_count": 194,
   "metadata": {},
   "outputs": [
    {
     "data": {
      "text/plain": [
       "[132.23533378287254,\n",
       " 129.2004008016032,\n",
       " 125.50753424657535,\n",
       " 128.2019099590723,\n",
       " 126.40294511378849]"
      ]
     },
     "execution_count": 194,
     "metadata": {},
     "output_type": "execute_result"
    }
   ],
   "source": [
    "# Tiempo de atención promedio: \n",
    "list(map(lambda x: np.mean(x), atencion_promedio))"
   ]
  },
  {
   "cell_type": "code",
   "execution_count": 199,
   "metadata": {},
   "outputs": [
    {
     "data": {
      "text/plain": [
       "[50770.799999999996, 50859.6, 49274.4, 50902.2, 50436.6]"
      ]
     },
     "execution_count": 199,
     "metadata": {},
     "output_type": "execute_result"
    }
   ],
   "source": [
    "# Ganancia promedio: \n",
    "ganancia_promedio"
   ]
  },
  {
   "cell_type": "markdown",
   "metadata": {},
   "source": [
    "#### Solucion (otro estudiante)"
   ]
  },
  {
   "cell_type": "code",
   "execution_count": null,
   "metadata": {},
   "outputs": [],
   "source": []
  }
 ],
 "metadata": {
  "kernelspec": {
   "display_name": "Python 3",
   "language": "python",
   "name": "python3"
  },
  "language_info": {
   "codemirror_mode": {
    "name": "ipython",
    "version": 3
   },
   "file_extension": ".py",
   "mimetype": "text/x-python",
   "name": "python",
   "nbconvert_exporter": "python",
   "pygments_lexer": "ipython3",
   "version": "3.8.3"
  }
 },
 "nbformat": 4,
 "nbformat_minor": 2
}
