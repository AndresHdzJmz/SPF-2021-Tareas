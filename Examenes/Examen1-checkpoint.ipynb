{
 "cells": [
  {
   "cell_type": "markdown",
   "metadata": {},
   "source": [
    "___\n",
    "<img style=\"float: left; margin: 30px 15px 15px 15px;\" src=\"https://pngimage.net/wp-content/uploads/2018/06/logo-iteso-png-5.png\" width=\"300\" height=\"500\" /> \n",
    "\n",
    "\n",
    "# PRIMER EXÁMEN PARCIAL\n",
    "# SIMULACIÓN DE PROCESOS FINANCIEROS\n",
    "\n",
    "## Examen Tema 1\n",
    "## Nombre:\n",
    "\n",
    "## Fecha: 22 de febrero del 2021\n",
    "\n",
    "## Por: Oscar David Jaramillo Z."
   ]
  },
  {
   "cell_type": "markdown",
   "metadata": {},
   "source": [
    "### Responde los siguientes cuestionamientos usando al menos 10000 simulaciones"
   ]
  },
  {
   "cell_type": "markdown",
   "metadata": {},
   "source": [
    "## 1. Un juego de lanzamiento de una moneda (5 puntos)\n",
    "\n",
    "Al ingresar al casino, descubres que, además de los juegos habituales (blackjack, ruleta, etc.), ofrecen un nuevo juego interesante con las siguientes reglas.\n",
    "Reglas del juego.\n",
    "- Cada jugada del juego consiste en lanzar repetidamente una moneda imparcial hasta que la diferencia entre el número de caras lanzadas y el número de sellos es 3.\n",
    "- Si decides jugar el juego, debes pagar $ \\$ 1 $ por cada lanzamiento de la moneda. No puedes salir durante una jugada del juego.\n",
    "- Usted recibe $\\$8 $ al final de cada uno de los juego.\n",
    "\n",
    "Por lo tanto, ganas dinero si el número de lanzamientos requeridos es menor a 8, pero pierdes dinero si se requieren más de 8 lanzamientos.\n",
    "Con el juego planteado anteriormente, responda las siguientes preguntas:\n",
    "1. ¿Cuál es el promedio de tiradas hasta que termina un juego? ¿Cuál es su desviación estándar? (dibuja su histograma). \n",
    "2. Para el inciso anterior ¿Cuál es la probabilidad de que tires más de 10 veces para terminar un juego? ¿ y de que tires menos de 5 veces?.\n",
    "3. Imagina  que lanzas 100 tiros exactos la moneda. ¿Cuál es tu valor esperado de \\$\\$ ganado/perdido? ¿Y tu valor más probable?¿Cuál es la probabilidad de ganar dinero? (Grafica el histograma de simulaciones).\n",
    "4. Imagina que comienzas con $\\$30$ ¿Cuál es el valor esperado del número de  tiradas que debes realizar antes de quedarte sin dinero? ¿Cuál es la probabilidad de realizar más de 150 tiradas? (grafica el histograma correspondiente)."
   ]
  },
  {
   "cell_type": "code",
   "execution_count": 1,
   "metadata": {},
   "outputs": [],
   "source": [
    "# Solución"
   ]
  },
  {
   "cell_type": "markdown",
   "metadata": {},
   "source": [
    "## 2. (5 puntos)\n",
    "El juego de dados requiere que el jugador arroje dos dados una o más veces hasta que se llegue a una decisión sobre si él (o ella) gana o pierde. Él gana si la primera tirada resulta en una suma de 7 u 11 o, alternativamente, si la primera suma es 4, 5, 6, 8, 9 o 10 y la misma suma reaparece antes de que aparezca una suma de 7. Por el contrario, pierde si la primera tirada resulta en una suma de 2, 3 o 12 o, alternativamente, si la primera suma es 4, 5, 6, 8, 9 o 10 y aparece una suma de 7 antes de la primera suma reaparece.\n",
    "1. Calcule la probabilidad de ganar corriendo 10,000 simulaciones.\n",
    "2. Imagina que cada juego ganas o pierdes $\\$50$. Si inicias con $\\$500$. ¿Cuál es tu valor esperado de dinero después de 10 juegos? ¿y el más probable? ¿Cuál es la probabilidad de ganar dinero?."
   ]
  },
  {
   "cell_type": "code",
   "execution_count": null,
   "metadata": {},
   "outputs": [],
   "source": [
    "# Solución"
   ]
  },
  {
   "cell_type": "markdown",
   "metadata": {},
   "source": [
    "## 3. (5 puntos)\n",
    "\n",
    "Se eligen tres puntos uniformemente al azar del perímetro de un círculo unitario. Utilice la simulación de Monte Carlo para calcular la probabilidad de que los puntos formen un triángulo agudo, ¿cuál es la probabilidad de generar aleatoriamente triángulos agudos?\n",
    "\n",
    "Suponga que 10.000 simulaciones son suficientes para calcular $P$.\n",
    "\n",
    "> Ayuda: \n",
    "> 1. https://www.universoformulas.com/matematicas/trigonometria/resolucion-triangulos/\n",
    "> 2. Distancia entre un par de puntos en el eje cartesiano $$d=\\sqrt{(x_2-x_1)^2 + (y_2 - y_1)^2}$$\n",
    "> 3. Coordenadas polares $$x=R\\cos (\\theta), \\quad y=R\\sin (\\theta)$$\n",
    "> 4. https://es.wikipedia.org/wiki/Tri%C3%A1ngulos_agudos_y_obtusos"
   ]
  },
  {
   "cell_type": "code",
   "execution_count": null,
   "metadata": {},
   "outputs": [],
   "source": [
    "# Solución"
   ]
  },
  {
   "cell_type": "markdown",
   "metadata": {},
   "source": [
    "## Parámetros de entrega\n",
    "\n",
    "- La solución a este primer trabajo se debe realizar en un notebook de jupyter, utilizando la sintaxis markdown y además se deben de reportar el código de cómo obtuvieron los resultados de simulación (debidamente comentado y con la programación óptima como hemos venido trabajando), y con los resultados obtenidos responder a las preguntas dadas.\n",
    "- La fecha de entrega de este trabajo es **01/03/2021** hasta las 6 pm y se debe de entregar a través de canvas, donde habilitaré un espacio para entrega de este Exámen. Recuerden después de las 6 pm del miércoles se deshabilita en Canvas la entrega de la tarea, así que considérenlo para que no vayan a tener inconvenientes. Recuerden lo acordado el primer día de clase.\n",
    "- Cada ejercicio tendrá el mismo porcentaje y el porcentaje del exámen será de el 15%."
   ]
  }
 ],
 "metadata": {
  "kernelspec": {
   "display_name": "Python 3",
   "language": "python",
   "name": "python3"
  },
  "language_info": {
   "codemirror_mode": {
    "name": "ipython",
    "version": 3
   },
   "file_extension": ".py",
   "mimetype": "text/x-python",
   "name": "python",
   "nbconvert_exporter": "python",
   "pygments_lexer": "ipython3",
   "version": "3.8.3"
  }
 },
 "nbformat": 4,
 "nbformat_minor": 4
}
